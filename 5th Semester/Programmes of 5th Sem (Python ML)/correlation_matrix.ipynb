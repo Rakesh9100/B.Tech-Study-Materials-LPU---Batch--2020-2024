{
  "nbformat": 4,
  "nbformat_minor": 0,
  "metadata": {
    "colab": {
      "provenance": []
    },
    "kernelspec": {
      "name": "python3",
      "display_name": "Python 3"
    },
    "language_info": {
      "name": "python"
    }
  },
  "cells": [
    {
      "cell_type": "code",
      "execution_count": null,
      "metadata": {
        "colab": {
          "base_uri": "https://localhost:8080/"
        },
        "id": "dlCTsNbQ61k5",
        "outputId": "63ecefe0-6354-49bc-b918-495d618cd530"
      },
      "outputs": [
        {
          "output_type": "stream",
          "name": "stdout",
          "text": [
            "[[1.         0.95750662]\n",
            " [0.95750662 1.        ]]\n"
          ]
        }
      ],
      "source": [
        "import numpy as np\n",
        "\n",
        "\n",
        "# x represents the total sale in\n",
        "# dollars\n",
        "x = [215, 325, 185, 332, 406, 522, 412,\n",
        "\t614, 544, 421, 445, 408],\n",
        "\n",
        "# y represents the temperature on\n",
        "# each day of sale\n",
        "y = [14.2, 16.4, 11.9, 15.2, 18.5, 22.1,\n",
        "\t19.4, 25.1, 23.4, 18.1, 22.6, 17.2]\n",
        "\n",
        "# create correlation matrix\n",
        "matrix = np.corrcoef(x, y)\n",
        "\n",
        "# print matrix\n",
        "print(matrix)"
      ]
    },
    {
      "cell_type": "code",
      "source": [
        "# x represents the age\n",
        "x = [43, 21, 25, 42, 57, 59]\n",
        "\n",
        "# y represents the glucose level\n",
        "# corresponding to that age\n",
        "y = [99, 65, 79, 75, 87, 81]\n",
        "\n",
        "# correlation matrix\n",
        "matrix = np.corrcoef(x, y)\n",
        "print(matrix)\n"
      ],
      "metadata": {
        "colab": {
          "base_uri": "https://localhost:8080/"
        },
        "id": "LhTCLlFx7NJO",
        "outputId": "4bbd9ea9-3271-4782-b535-960b87b7b14a"
      },
      "execution_count": null,
      "outputs": [
        {
          "output_type": "stream",
          "name": "stdout",
          "text": [
            "[[1.        0.5298089]\n",
            " [0.5298089 1.       ]]\n"
          ]
        }
      ]
    },
    {
      "cell_type": "code",
      "source": [
        "import pandas as pd\n",
        "\n",
        "\n",
        "# collect data\n",
        "data = {\n",
        "\t'x': [45, 37, 42, 35, 39],\n",
        "\t'y': [38, 31, 26, 28, 33],\n",
        "\t'z': [10, 15, 17, 21, 12]\n",
        "}\n",
        "\n",
        "# form dataframe\n",
        "dataframe = pd.DataFrame(data, columns=['x', 'y', 'z'])\n",
        "print(\"Dataframe is : \")\n",
        "print(dataframe)\n",
        "\n",
        "# form correlation matrix\n",
        "matrix = dataframe.corr()\n",
        "print(\"Correlation matrix is : \")\n",
        "print(matrix)\n"
      ],
      "metadata": {
        "colab": {
          "base_uri": "https://localhost:8080/"
        },
        "id": "lA5rYoXn7RrD",
        "outputId": "ebfef44c-187f-4e7d-f8e8-cf10b53e93d4"
      },
      "execution_count": null,
      "outputs": [
        {
          "output_type": "stream",
          "name": "stdout",
          "text": [
            "Dataframe is : \n",
            "    x   y   z\n",
            "0  45  38  10\n",
            "1  37  31  15\n",
            "2  42  26  17\n",
            "3  35  28  21\n",
            "4  39  33  12\n",
            "Correlation matrix is : \n",
            "          x         y         z\n",
            "x  1.000000  0.518457 -0.701886\n",
            "y  0.518457  1.000000 -0.860941\n",
            "z -0.701886 -0.860941  1.000000\n"
          ]
        }
      ]
    },
    {
      "cell_type": "code",
      "source": [
        "import pandas as pd\n",
        "\n",
        "\n",
        "# create dataframe from file\n",
        "dataframe = pd.read_csv(\"http://rcs.bu.edu/examples/python/data_analysis/Salaries.csv\")\n",
        "\n",
        "# show dataframe\n",
        "print(dataframe)\n",
        "\n",
        "# use corr() method on dataframe to\n",
        "# make correlation matrix\n",
        "matrix = dataframe.corr()\n",
        "\n",
        "# print correlation matrix\n",
        "print(\"Correlation Matrix is : \")\n",
        "print(matrix)\n"
      ],
      "metadata": {
        "colab": {
          "base_uri": "https://localhost:8080/"
        },
        "id": "NyVH7BDY7rt7",
        "outputId": "8a3d2750-e337-4f77-d049-61c0c418f661"
      },
      "execution_count": null,
      "outputs": [
        {
          "output_type": "stream",
          "name": "stdout",
          "text": [
            "         rank discipline  phd  service     sex  salary\n",
            "0        Prof          B   56       49    Male  186960\n",
            "1        Prof          A   12        6    Male   93000\n",
            "2        Prof          A   23       20    Male  110515\n",
            "3        Prof          A   40       31    Male  131205\n",
            "4        Prof          B   20       18    Male  104800\n",
            "..        ...        ...  ...      ...     ...     ...\n",
            "73       Prof          B   18       10  Female  105450\n",
            "74  AssocProf          B   19        6  Female  104542\n",
            "75       Prof          B   17       17  Female  124312\n",
            "76       Prof          A   28       14  Female  109954\n",
            "77       Prof          A   23       15  Female  109646\n",
            "\n",
            "[78 rows x 6 columns]\n",
            "Correlation Matrix is : \n",
            "              phd   service    salary\n",
            "phd      1.000000  0.927170  0.581356\n",
            "service  0.927170  1.000000  0.532191\n",
            "salary   0.581356  0.532191  1.000000\n"
          ]
        }
      ]
    }
  ]
}