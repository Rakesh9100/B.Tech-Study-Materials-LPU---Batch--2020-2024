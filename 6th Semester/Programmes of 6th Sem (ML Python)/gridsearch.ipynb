{
 "cells": [
  {
   "cell_type": "code",
   "execution_count": 31,
   "id": "53959ce6",
   "metadata": {},
   "outputs": [
    {
     "name": "stdout",
     "output_type": "stream",
     "text": [
      "   0      1      2   3   4   5   6     7   8   9  10  11  12     13   14  15\n",
      "0   1  30.83    0.0   1   0  12   7  1.25   1   1  1   0   0  202.0    0   0\n",
      "1   0  58.67   4.46   1   0  10   3  3.04   1   1  6   0   0   43.0  560   0\n",
      "2   0   24.5    0.5   1   0  10   3   1.5   1   0  0   0   0  280.0  824   0\n",
      "3   1  27.83   1.54   1   0  12   7  3.75   1   1  5   1   0  100.0    3   0\n",
      "4   1  20.17  5.625   1   0  12   7  1.71   1   0  0   0   2  120.0    0   0\n"
     ]
    }
   ],
   "source": [
    "import pandas as pd\n",
    "df=pd.read_csv(\"crx.data\",header=None,na_values=\"?\")\n",
    "#print(df.isna().sum())\n",
    "#print(df.head())\n",
    "from sklearn.impute import SimpleImputer\n",
    "df_im=pd.DataFrame(SimpleImputer(strategy=\"most_frequent\").fit_transform(df))\n",
    "#print(df_im.isna().sum())\n",
    "from sklearn.preprocessing import LabelEncoder\n",
    "for i in [0,3,4,5,6,8,9,11,12,15]:\n",
    "    df_im[i]=LabelEncoder().fit_transform(df_im[i])\n",
    "print(df_im.head())"
   ]
  },
  {
   "cell_type": "code",
   "execution_count": 32,
   "id": "f6a39266",
   "metadata": {},
   "outputs": [],
   "source": [
    "from sklearn.preprocessing import StandardScaler\n",
    "from sklearn.decomposition import PCA\n",
    "from sklearn.svm import SVC\n",
    "from sklearn.pipeline import Pipeline"
   ]
  },
  {
   "cell_type": "code",
   "execution_count": 33,
   "id": "011aa382",
   "metadata": {},
   "outputs": [
    {
     "data": {
      "text/plain": [
       "Pipeline(steps=[('sc', StandardScaler()), ('pca', PCA()), ('svmr', SVC())])"
      ]
     },
     "execution_count": 33,
     "metadata": {},
     "output_type": "execute_result"
    }
   ],
   "source": [
    "pipe=Pipeline([('sc',StandardScaler()),\n",
    "               ('pca',PCA()),\n",
    "               ('svmr',SVC(kernel=\"rbf\"))])\n",
    "from sklearn.model_selection import train_test_split\n",
    "xtrain,xtest,ytrain,ytest=train_test_split(df_im.drop(columns=[15]),\n",
    "                                          df_im[15],\n",
    "                                          test_size=0.3)\n",
    "pipe.fit(xtrain,ytrain)"
   ]
  },
  {
   "cell_type": "code",
   "execution_count": 19,
   "id": "f8bbdbe7",
   "metadata": {},
   "outputs": [
    {
     "name": "stdout",
     "output_type": "stream",
     "text": [
      "0.8923395445134575\n",
      "0.8743961352657005\n"
     ]
    }
   ],
   "source": [
    "print(pipe.score(xtrain,ytrain))\n",
    "print(pipe.score(xtest,ytest))"
   ]
  },
  {
   "cell_type": "code",
   "execution_count": 34,
   "id": "8b0359cb",
   "metadata": {},
   "outputs": [
    {
     "name": "stdout",
     "output_type": "stream",
     "text": [
      "0.43478260869565216\n",
      "0.8115942028985508\n",
      "0.9855072463768116\n",
      "0.9420289855072463\n",
      "0.9420289855072463\n",
      "0.927536231884058\n",
      "0.8695652173913043\n",
      "0.6231884057971014\n",
      "1.0\n",
      "0.855072463768116\n"
     ]
    }
   ],
   "source": [
    "''''''\n",
    "data=df_im.drop(columns=[15])\n",
    "target=df_im[15]\n",
    "from sklearn.model_selection import StratifiedKFold\n",
    "skf=StratifiedKFold(n_splits=10)\n",
    "for trainindex,testindex in skf.split(data,target):\n",
    "    xtrain,xtest=data.iloc[trainindex],data.iloc[testindex]\n",
    "    ytrain,ytest=target[trainindex],target[testindex]\n",
    "    pipe.fit(xtrain,ytrain)\n",
    "    print(pipe.score(xtest,ytest))\n"
   ]
  },
  {
   "cell_type": "code",
   "execution_count": 40,
   "id": "aa0b8a8e",
   "metadata": {},
   "outputs": [
    {
     "name": "stdout",
     "output_type": "stream",
     "text": [
      "0.7869565217391304\n",
      "0.9347826086956522\n",
      "0.8521739130434782\n"
     ]
    }
   ],
   "source": [
    "from sklearn.model_selection import KFold\n",
    "data=df_im.drop(columns=[15])\n",
    "target=df_im[15]\n",
    "kf=KFold(n_splits=3)\n",
    "for train,test in kf.split(data,target):\n",
    "    xtrain,xtest=data.iloc[train],data.iloc[test]\n",
    "    ytrain,ytest=target.iloc[train], target.iloc[test]\n",
    "    pipe.fit(xtrain,ytrain)\n",
    "    print(pipe.score(xtest,ytest))\n",
    "    "
   ]
  },
  {
   "cell_type": "code",
   "execution_count": 44,
   "id": "0a6c5f6d",
   "metadata": {},
   "outputs": [
    {
     "name": "stdout",
     "output_type": "stream",
     "text": [
      "0.7608695652173914\n",
      "0.9260869565217391\n",
      "0.8217391304347826\n"
     ]
    }
   ],
   "source": [
    "from sklearn.model_selection import StratifiedKFold\n",
    "data=df_im.drop(columns=[15])\n",
    "target=df_im[15]\n",
    "kf=StratifiedKFold(n_splits=3)\n",
    "for train,test in kf.split(data,target):\n",
    "    xtrain,xtest=data.iloc[train],data.iloc[test]\n",
    "    ytrain,ytest=target.iloc[train], target.iloc[test]\n",
    "    pipe.fit(xtrain,ytrain)\n",
    "    print(pipe.score(xtest,ytest))"
   ]
  },
  {
   "cell_type": "code",
   "execution_count": 46,
   "id": "b71d18f3",
   "metadata": {},
   "outputs": [
    {
     "name": "stdout",
     "output_type": "stream",
     "text": [
      "K Fold:  3\n",
      "0.836231884057971\n",
      "K Fold:  4\n",
      "0.8377470090065868\n",
      "K Fold:  5\n",
      "0.846376811594203\n",
      "K Fold:  6\n",
      "0.8405797101449276\n",
      "K Fold:  7\n",
      "0.8420502400094237\n",
      "K Fold:  8\n",
      "0.8409850307404437\n",
      "K Fold:  9\n",
      "0.8418964076858813\n",
      "K Fold:  10\n",
      "0.8391304347826086\n"
     ]
    }
   ],
   "source": [
    "from sklearn.model_selection import cross_validate\n",
    "for i in range(3,11):\n",
    "  cv_results=cross_validate(pipe, data, target, cv=i)\n",
    "  print(\"K Fold: \", i)\n",
    "  print(np.average(cv_results['test_score']))\n",
    "    "
   ]
  },
  {
   "cell_type": "code",
   "execution_count": 53,
   "id": "5b05c391",
   "metadata": {},
   "outputs": [
    {
     "name": "stdout",
     "output_type": "stream",
     "text": [
      "[[55 13]\n",
      " [ 4 99]]\n",
      "              precision    recall  f1-score   support\n",
      "\n",
      "           0       0.93      0.81      0.87        68\n",
      "           1       0.88      0.96      0.92       103\n",
      "\n",
      "    accuracy                           0.90       171\n",
      "   macro avg       0.91      0.88      0.89       171\n",
      "weighted avg       0.90      0.90      0.90       171\n",
      "\n"
     ]
    }
   ],
   "source": [
    "from sklearn import datasets\n",
    "from sklearn.metrics import classification_report,confusion_matrix\n",
    "from sklearn.svm import SVC\n",
    "from sklearn.model_selection import train_test_split\n",
    "data=datasets.load_breast_cancer()\n",
    "X=data.data\n",
    "Y=data.target\n",
    "xtrain,xtest,ytrain,ytest=train_test_split(X,Y,test_size=0.3)\n",
    "model=SVC()\n",
    "model.fit(xtrain,ytrain)\n",
    "print(confusion_matrix(ytest,model.predict(xtest)))\n",
    "print(classification_report(ytest,model.predict(xtest)))"
   ]
  },
  {
   "cell_type": "code",
   "execution_count": 54,
   "id": "65a33cbb",
   "metadata": {},
   "outputs": [],
   "source": [
    "from sklearn.model_selection import GridSearchCV"
   ]
  },
  {
   "cell_type": "code",
   "execution_count": 56,
   "id": "5e49ca14",
   "metadata": {},
   "outputs": [
    {
     "name": "stdout",
     "output_type": "stream",
     "text": [
      "{'C': 10, 'kernel': 'linear'}\n",
      "              precision    recall  f1-score   support\n",
      "\n",
      "           0       1.00      0.91      0.95        68\n",
      "           1       0.94      1.00      0.97       103\n",
      "\n",
      "    accuracy                           0.96       171\n",
      "   macro avg       0.97      0.96      0.96       171\n",
      "weighted avg       0.97      0.96      0.96       171\n",
      "\n"
     ]
    }
   ],
   "source": [
    "param_grid = {'C': [0.1, 1, 10, 100],  \n",
    "              'kernel': ['linear','poly','rbf']}  \n",
    "   \n",
    "grid = GridSearchCV(SVC(), param_grid) \n",
    "   \n",
    "# fitting the model for grid search \n",
    "grid.fit(xtrain, ytrain) \n",
    " \n",
    "# print best parameter after tuning \n",
    "print(grid.best_params_) \n",
    "grid_predictions = grid.predict(xtest) \n",
    "   \n",
    "# print classification report \n",
    "print(classification_report(ytest, grid_predictions)) "
   ]
  },
  {
   "cell_type": "code",
   "execution_count": null,
   "id": "d106b694",
   "metadata": {},
   "outputs": [],
   "source": []
  }
 ],
 "metadata": {
  "kernelspec": {
   "display_name": "Python 3",
   "language": "python",
   "name": "python3"
  },
  "language_info": {
   "codemirror_mode": {
    "name": "ipython",
    "version": 3
   },
   "file_extension": ".py",
   "mimetype": "text/x-python",
   "name": "python",
   "nbconvert_exporter": "python",
   "pygments_lexer": "ipython3",
   "version": "3.8.8"
  }
 },
 "nbformat": 4,
 "nbformat_minor": 5
}
