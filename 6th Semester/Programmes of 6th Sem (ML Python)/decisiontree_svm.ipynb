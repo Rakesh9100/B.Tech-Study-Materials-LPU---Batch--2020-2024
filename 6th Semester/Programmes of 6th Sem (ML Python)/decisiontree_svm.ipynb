{
 "cells": [
  {
   "cell_type": "code",
   "execution_count": 1,
   "id": "755b6603",
   "metadata": {},
   "outputs": [
    {
     "name": "stdout",
     "output_type": "stream",
     "text": [
      "0    0\n",
      "1    0\n",
      "2    0\n",
      "3    0\n",
      "4    0\n",
      "5    0\n",
      "6    0\n",
      "7    0\n",
      "8    0\n",
      "9    0\n",
      "dtype: int64\n",
      "   0  1  2  3  4  5  6  7  8  9\n",
      "0  0  1  2  5  0  0  3  0  1  0\n",
      "1  0  2  2  3  0  0  2  1  4  0\n",
      "2  0  2  2  3  0  0  2  0  1  0\n",
      "3  0  4  0  2  0  0  2  1  2  0\n",
      "4  0  2  2  0  0  0  2  1  3  0\n"
     ]
    }
   ],
   "source": [
    "import pandas as pd\n",
    "df=pd.read_csv(\"breast-cancer.data\",header=None, na_values=\"?\")\n",
    "\"\"\"print(df.isna().sum())\n",
    "for i in range(0,10):\n",
    "    print(df[i].unique())\"\"\"\n",
    "from sklearn.impute import SimpleImputer\n",
    "df_i=pd.DataFrame(SimpleImputer(strategy=\"most_frequent\").fit_transform(df))\n",
    "print(df_i.isna().sum())\n",
    "from sklearn.preprocessing import LabelEncoder\n",
    "for i in [0,1,2,3,4,5,7,8,9]:\n",
    "    df_i[i]=LabelEncoder().fit_transform(df_i[i])\n",
    "print(df_i.head())"
   ]
  },
  {
   "cell_type": "code",
   "execution_count": 5,
   "id": "dae03909",
   "metadata": {},
   "outputs": [
    {
     "name": "stdout",
     "output_type": "stream",
     "text": [
      "(200, 9) (86, 9) (200,) (86,)\n"
     ]
    }
   ],
   "source": [
    "from sklearn.model_selection import train_test_split\n",
    "x_train,x_test,ytrain,ytest=train_test_split(df_i.drop(columns=[0]),df_i[0],test_size=0.3)\n",
    "print(x_train.shape,x_test.shape,ytrain.shape,ytest.shape)"
   ]
  },
  {
   "cell_type": "code",
   "execution_count": 2,
   "id": "dad7f789",
   "metadata": {},
   "outputs": [],
   "source": [
    "from sklearn.tree import DecisionTreeClassifier\n"
   ]
  },
  {
   "cell_type": "code",
   "execution_count": 12,
   "id": "52fef614",
   "metadata": {},
   "outputs": [
    {
     "data": {
      "text/plain": [
       "DecisionTreeClassifier(criterion='entropy', max_depth=2)"
      ]
     },
     "execution_count": 12,
     "metadata": {},
     "output_type": "execute_result"
    }
   ],
   "source": [
    "model_dt=DecisionTreeClassifier(criterion='entropy',max_depth=2)\n",
    "model_dt.fit(x_train,ytrain)"
   ]
  },
  {
   "cell_type": "code",
   "execution_count": 14,
   "id": "8121c2a3",
   "metadata": {},
   "outputs": [
    {
     "name": "stdout",
     "output_type": "stream",
     "text": [
      "training Accuracy is  0.755\n",
      "testing accuracy is  0.7674418604651163\n"
     ]
    }
   ],
   "source": [
    "pred_train=model_dt.predict(x_train)\n",
    "pred_test=model_dt.predict(x_test)\n",
    "from sklearn.metrics import accuracy_score\n",
    "print(\"training Accuracy is \",accuracy_score(ytrain,pred_train))\n",
    "print(\"testing accuracy is \",accuracy_score(ytest,pred_test))"
   ]
  },
  {
   "cell_type": "code",
   "execution_count": 15,
   "id": "520d2fe3",
   "metadata": {},
   "outputs": [
    {
     "data": {
      "text/plain": [
       "[Text(167.4, 181.2, 'X[5] <= 2.5\\nentropy = 0.899\\nsamples = 200\\nvalue = [137, 63]'),\n",
       " Text(83.7, 108.72, 'X[2] <= 2.5\\nentropy = 0.707\\nsamples = 135\\nvalue = [109, 26]'),\n",
       " Text(41.85, 36.23999999999998, 'entropy = 0.276\\nsamples = 42\\nvalue = [40, 2]'),\n",
       " Text(125.55000000000001, 36.23999999999998, 'entropy = 0.824\\nsamples = 93\\nvalue = [69, 24]'),\n",
       " Text(251.10000000000002, 108.72, 'X[4] <= 0.5\\nentropy = 0.986\\nsamples = 65\\nvalue = [28, 37]'),\n",
       " Text(209.25, 36.23999999999998, 'entropy = 0.99\\nsamples = 43\\nvalue = [24, 19]'),\n",
       " Text(292.95, 36.23999999999998, 'entropy = 0.684\\nsamples = 22\\nvalue = [4, 18]')]"
      ]
     },
     "execution_count": 15,
     "metadata": {},
     "output_type": "execute_result"
    },
    {
     "data": {
      "image/png": "[encoded data removed]",
      "text/plain": [
       "<Figure size 432x288 with 1 Axes>"
      ]
     },
     "metadata": {
      "needs_background": "light"
     },
     "output_type": "display_data"
    }
   ],
   "source": [
    "from sklearn.tree import plot_tree\n",
    "plot_tree(model_dt)"
   ]
  },
  {
   "cell_type": "code",
   "execution_count": 23,
   "id": "790c3a90",
   "metadata": {},
   "outputs": [],
   "source": [
    "from sklearn.svm import SVC\n",
    "model_s=SVC(kernel='poly')"
   ]
  },
  {
   "cell_type": "code",
   "execution_count": 24,
   "id": "312737b7",
   "metadata": {},
   "outputs": [
    {
     "data": {
      "text/plain": [
       "SVC(kernel='poly')"
      ]
     },
     "execution_count": 24,
     "metadata": {},
     "output_type": "execute_result"
    }
   ],
   "source": [
    "model_s.fit(x_train,ytrain)"
   ]
  },
  {
   "cell_type": "code",
   "execution_count": 25,
   "id": "6ad55e26",
   "metadata": {},
   "outputs": [
    {
     "name": "stdout",
     "output_type": "stream",
     "text": [
      "training Accuracy is  0.805\n",
      "testing accuracy is  0.7558139534883721\n"
     ]
    }
   ],
   "source": [
    "pred_train=model_s.predict(x_train)\n",
    "pred_test=model_s.predict(x_test)\n",
    "from sklearn.metrics import accuracy_score\n",
    "print(\"training Accuracy is \",accuracy_score(ytrain,pred_train))\n",
    "print(\"testing accuracy is \",accuracy_score(ytest,pred_test))"
   ]
  },
  {
   "cell_type": "code",
   "execution_count": null,
   "id": "771e0c9d",
   "metadata": {},
   "outputs": [],
   "source": []
  }
 ],
 "metadata": {
  "kernelspec": {
   "display_name": "Python 3",
   "language": "python",
   "name": "python3"
  },
  "language_info": {
   "codemirror_mode": {
    "name": "ipython",
    "version": 3
   },
   "file_extension": ".py",
   "mimetype": "text/x-python",
   "name": "python",
   "nbconvert_exporter": "python",
   "pygments_lexer": "ipython3",
   "version": "3.8.8"
  }
 },
 "nbformat": 4,
 "nbformat_minor": 5
}
