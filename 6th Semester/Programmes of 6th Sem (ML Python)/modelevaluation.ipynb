{
 "cells": [
  {
   "cell_type": "code",
   "execution_count": 2,
   "id": "d6df4973",
   "metadata": {},
   "outputs": [],
   "source": [
    "from sklearn import datasets\n",
    "from sklearn.svm import SVC\n",
    "import numpy as np"
   ]
  },
  {
   "cell_type": "code",
   "execution_count": 6,
   "id": "8c8b3a99",
   "metadata": {},
   "outputs": [],
   "source": [
    "data=datasets.load_breast_cancer()\n",
    "x=data.data\n",
    "y=data.target\n",
    "#print(x.shape,y.shape,data.DESCR)"
   ]
  },
  {
   "cell_type": "code",
   "execution_count": 17,
   "id": "1f4dc835",
   "metadata": {},
   "outputs": [
    {
     "name": "stdout",
     "output_type": "stream",
     "text": [
      "0.9064327485380117\n"
     ]
    }
   ],
   "source": [
    "from sklearn.model_selection import KFold, train_test_split, StratifiedKFold\n",
    "kf=KFold(n_splits=10)\n",
    "skf=StratifiedKFold(n_splits=10)\n",
    "xtrain,xtest,ytrain,ytest=train_test_split(x,y,test_size=0.3)\n",
    "model=SVC()\n",
    "model.fit(xtrain,ytrain)\n",
    "print(accuracy_score(ytest,model.predict(xtest)))"
   ]
  },
  {
   "cell_type": "code",
   "execution_count": 15,
   "id": "e4830deb",
   "metadata": {},
   "outputs": [
    {
     "name": "stdout",
     "output_type": "stream",
     "text": [
      "[0.7017543859649122, 0.9122807017543859, 0.9122807017543859, 0.8947368421052632, 0.9649122807017544, 0.9824561403508771, 0.9473684210526315, 0.9473684210526315, 0.9122807017543859, 0.9821428571428571] 0.9157581453634085\n"
     ]
    }
   ],
   "source": [
    "from sklearn.metrics import accuracy_score\n",
    "import numpy as np\n",
    "result=[]\n",
    "for trainindex,testindex in kf.split(x,y):\n",
    "    xtrain,xtest=x[trainindex],x[testindex]\n",
    "    ytrain,ytest=y[trainindex],y[testindex]\n",
    "    model=SVC()\n",
    "    model.fit(xtrain,ytrain)\n",
    "    #print(accuracy_score(ytest,model.predict(xtest)))\n",
    "    result.append(accuracy_score(ytest,model.predict(xtest)))\n",
    "print(result,np.average(result))"
   ]
  },
  {
   "cell_type": "code",
   "execution_count": 30,
   "id": "b6ef0a9d",
   "metadata": {},
   "outputs": [
    {
     "data": {
      "image/png": "[encoded data removed]",
      "text/plain": [
       "<Figure size 432x288 with 1 Axes>"
      ]
     },
     "metadata": {
      "needs_background": "light"
     },
     "output_type": "display_data"
    }
   ],
   "source": [
    "import matplotlib.pyplot as plt\n",
    "train=[]\n",
    "test=[]\n",
    "for trainindex,testindex in skf.split(x,y):\n",
    "    xtrain,xtest=x[trainindex],x[testindex]\n",
    "    ytrain,ytest=y[trainindex],y[testindex]\n",
    "    model=SVC()\n",
    "    model.fit(xtrain,ytrain)\n",
    "    train.append(accuracy_score(ytrain,model.predict(xtrain)))\n",
    "    test.append(accuracy_score(ytest,model.predict(xtest)))\n",
    "plt.title(\"Validation Curve\")\n",
    "plt.xlabel(\"i fold\")\n",
    "plt.ylabel(\"accuracy\")\n",
    "plt.plot(np.arange(0,10),train,c=\"red\",label=\"train\")\n",
    "plt.plot(np.arange(0,10),test,c=\"yellow\",label=\"test\")\n",
    "plt.show()"
   ]
  },
  {
   "cell_type": "code",
   "execution_count": 19,
   "id": "53cd90de",
   "metadata": {},
   "outputs": [],
   "source": [
    "from sklearn.model_selection import cross_validate"
   ]
  },
  {
   "cell_type": "code",
   "execution_count": 22,
   "id": "8a493068",
   "metadata": {},
   "outputs": [],
   "source": [
    "cv=cross_validate(SVC(),x,y,cv=5)"
   ]
  },
  {
   "cell_type": "code",
   "execution_count": 25,
   "id": "5150c833",
   "metadata": {},
   "outputs": [
    {
     "name": "stdout",
     "output_type": "stream",
     "text": [
      "{'fit_time': array([0.01026058, 0.01290369, 0.00539064, 0.00748253, 0.00826931]), 'score_time': array([0.        , 0.00445509, 0.0092268 , 0.00812578, 0.        ]), 'test_score': array([0.85087719, 0.89473684, 0.92982456, 0.94736842, 0.9380531 ])} 0.9121720229777983\n"
     ]
    }
   ],
   "source": [
    "print(cv,np.average(cv['test_score']))"
   ]
  },
  {
   "cell_type": "code",
   "execution_count": 31,
   "id": "b4e1b859",
   "metadata": {},
   "outputs": [],
   "source": [
    "from sklearn.model_selection import GridSearchCV"
   ]
  },
  {
   "cell_type": "code",
   "execution_count": 33,
   "id": "d401d6d6",
   "metadata": {},
   "outputs": [
    {
     "data": {
      "text/plain": [
       "GridSearchCV(estimator=SVC(),\n",
       "             param_grid={'C': [0.1, 1, 10, 100],\n",
       "                         'kernel': ['linear', 'poly', 'rbf']})"
      ]
     },
     "execution_count": 33,
     "metadata": {},
     "output_type": "execute_result"
    }
   ],
   "source": [
    "paramlist={'C':[0.1,1,10,100],\n",
    "      'kernel':['linear','poly','rbf']}\n",
    "grid=GridSearchCV(SVC(),paramlist)\n",
    "grid.fit(xtrain,ytrain)"
   ]
  },
  {
   "cell_type": "code",
   "execution_count": 39,
   "id": "4f141c4a",
   "metadata": {},
   "outputs": [
    {
     "name": "stdout",
     "output_type": "stream",
     "text": [
      "0.9642857142857143\n",
      "{'C': 100, 'kernel': 'linear'}\n",
      "[[20  1]\n",
      " [ 1 34]]\n",
      "              precision    recall  f1-score   support\n",
      "\n",
      "           0       0.95      0.95      0.95        21\n",
      "           1       0.97      0.97      0.97        35\n",
      "\n",
      "    accuracy                           0.96        56\n",
      "   macro avg       0.96      0.96      0.96        56\n",
      "weighted avg       0.96      0.96      0.96        56\n",
      "\n"
     ]
    }
   ],
   "source": [
    "print(accuracy_score(ytest,grid.predict(xtest)))\n",
    "print(grid.best_params_)\n",
    "from sklearn.metrics import classification_report,confusion_matrix\n",
    "print(confusion_matrix(ytest,grid.predict(xtest)))\n",
    "print(classification_report(ytest,grid.predict(xtest)))"
   ]
  },
  {
   "cell_type": "code",
   "execution_count": null,
   "id": "b579f32d",
   "metadata": {},
   "outputs": [],
   "source": []
  }
 ],
 "metadata": {
  "kernelspec": {
   "display_name": "Python 3",
   "language": "python",
   "name": "python3"
  },
  "language_info": {
   "codemirror_mode": {
    "name": "ipython",
    "version": 3
   },
   "file_extension": ".py",
   "mimetype": "text/x-python",
   "name": "python",
   "nbconvert_exporter": "python",
   "pygments_lexer": "ipython3",
   "version": "3.8.8"
  }
 },
 "nbformat": 4,
 "nbformat_minor": 5
}
