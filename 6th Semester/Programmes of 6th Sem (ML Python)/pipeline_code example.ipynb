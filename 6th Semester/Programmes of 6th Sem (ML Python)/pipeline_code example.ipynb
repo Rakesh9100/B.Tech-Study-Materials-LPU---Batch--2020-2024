{
 "cells": [
  {
   "cell_type": "code",
   "execution_count": 19,
   "id": "d243b6b4",
   "metadata": {},
   "outputs": [],
   "source": [
    "import pandas as pd\n",
    "df=pd.read_csv(\"crx.data\",header=None,na_values=\"?\")\n",
    "#print(df.head())"
   ]
  },
  {
   "cell_type": "code",
   "execution_count": 15,
   "id": "79d20a3a",
   "metadata": {},
   "outputs": [],
   "source": [
    "#print(df.isna().sum())\n",
    "from sklearn.impute import SimpleImputer\n",
    "imp_data=pd.DataFrame(SimpleImputer(strategy=\"most_frequent\").fit_transform(df))"
   ]
  },
  {
   "cell_type": "code",
   "execution_count": 17,
   "id": "3a2d96a8",
   "metadata": {},
   "outputs": [
    {
     "data": {
      "text/plain": [
       "0"
      ]
     },
     "execution_count": 17,
     "metadata": {},
     "output_type": "execute_result"
    }
   ],
   "source": [
    "imp_data.isna().sum().sum()"
   ]
  },
  {
   "cell_type": "code",
   "execution_count": 21,
   "id": "4e301b71",
   "metadata": {},
   "outputs": [
    {
     "name": "stdout",
     "output_type": "stream",
     "text": [
      "   0      1      2   3   4   5   6     7   8   9  10  11  12     13   14  15\n",
      "0   1  30.83    0.0   1   0  12   7  1.25   1   1  1   0   0  202.0    0   0\n",
      "1   0  58.67   4.46   1   0  10   3  3.04   1   1  6   0   0   43.0  560   0\n",
      "2   0   24.5    0.5   1   0  10   3   1.5   1   0  0   0   0  280.0  824   0\n",
      "3   1  27.83   1.54   1   0  12   7  3.75   1   1  5   1   0  100.0    3   0\n",
      "4   1  20.17  5.625   1   0  12   7  1.71   1   0  0   0   2  120.0    0   0\n"
     ]
    }
   ],
   "source": [
    "from sklearn.preprocessing import LabelEncoder\n",
    "columns=[0,3,4,5,6,8,9,11,12,15]\n",
    "for i in columns:\n",
    "    imp_data[i]=LabelEncoder().fit_transform(imp_data[i])\n",
    "print(imp_data.head())"
   ]
  },
  {
   "cell_type": "code",
   "execution_count": 22,
   "id": "dee4f883",
   "metadata": {},
   "outputs": [],
   "source": [
    "from sklearn.preprocessing import MinMaxScaler\n",
    "from sklearn.decomposition import PCA\n",
    "from sklearn.svm import SVC\n",
    "from sklearn.pipeline import Pipeline\n",
    "from sklearn.model_selection import train_test_split"
   ]
  },
  {
   "cell_type": "code",
   "execution_count": 24,
   "id": "35f4d82f",
   "metadata": {},
   "outputs": [
    {
     "name": "stdout",
     "output_type": "stream",
     "text": [
      "(483, 15) (207, 15) (483,) (207,)\n"
     ]
    }
   ],
   "source": [
    "xtrain,xtest,ytrain,ytest=train_test_split(imp_data.drop(columns=[15]),\n",
    "                                           imp_data[15],\n",
    "                                           test_size=0.3)\n",
    "print(xtrain.shape,xtest.shape,ytrain.shape,ytest.shape)"
   ]
  },
  {
   "cell_type": "code",
   "execution_count": 25,
   "id": "3f7171fb",
   "metadata": {},
   "outputs": [],
   "source": [
    "pipe=Pipeline([('sc',MinMaxScaler()),('pca',PCA()),('svm',SVC(kernel='rbf'))])"
   ]
  },
  {
   "cell_type": "code",
   "execution_count": 26,
   "id": "ab9bf9f8",
   "metadata": {},
   "outputs": [
    {
     "data": {
      "text/plain": [
       "Pipeline(steps=[('sc', MinMaxScaler()), ('pca', PCA()), ('svm', SVC())])"
      ]
     },
     "execution_count": 26,
     "metadata": {},
     "output_type": "execute_result"
    }
   ],
   "source": [
    "pipe.fit(xtrain,ytrain)"
   ]
  },
  {
   "cell_type": "code",
   "execution_count": 27,
   "id": "4fb369cb",
   "metadata": {},
   "outputs": [
    {
     "data": {
      "text/plain": [
       "0.8902691511387164"
      ]
     },
     "execution_count": 27,
     "metadata": {},
     "output_type": "execute_result"
    }
   ],
   "source": [
    "pipe.score(xtrain,ytrain)"
   ]
  },
  {
   "cell_type": "code",
   "execution_count": 28,
   "id": "af647028",
   "metadata": {},
   "outputs": [
    {
     "data": {
      "text/plain": [
       "0.855072463768116"
      ]
     },
     "execution_count": 28,
     "metadata": {},
     "output_type": "execute_result"
    }
   ],
   "source": [
    "pipe.score(xtest,ytest)"
   ]
  },
  {
   "cell_type": "code",
   "execution_count": 29,
   "id": "4dd9b47b",
   "metadata": {},
   "outputs": [
    {
     "name": "stdout",
     "output_type": "stream",
     "text": [
      "Training accuracy is  0.8902691511387164\n"
     ]
    }
   ],
   "source": [
    "from sklearn.metrics import accuracy_score\n",
    "print(\"Training accuracy is \",accuracy_score(pipe.predict(xtrain),ytrain))"
   ]
  },
  {
   "cell_type": "code",
   "execution_count": null,
   "id": "4c790d87",
   "metadata": {},
   "outputs": [],
   "source": []
  }
 ],
 "metadata": {
  "kernelspec": {
   "display_name": "Python 3",
   "language": "python",
   "name": "python3"
  },
  "language_info": {
   "codemirror_mode": {
    "name": "ipython",
    "version": 3
   },
   "file_extension": ".py",
   "mimetype": "text/x-python",
   "name": "python",
   "nbconvert_exporter": "python",
   "pygments_lexer": "ipython3",
   "version": "3.8.8"
  }
 },
 "nbformat": 4,
 "nbformat_minor": 5
}
